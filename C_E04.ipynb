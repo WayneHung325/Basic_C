{
  "nbformat": 4,
  "nbformat_minor": 0,
  "metadata": {
    "colab": {
      "provenance": [],
      "authorship_tag": "ABX9TyOkE0R37r5RtHski8OXOoFT",
      "include_colab_link": true
    },
    "kernelspec": {
      "name": "python3",
      "display_name": "Python 3"
    },
    "language_info": {
      "name": "python"
    }
  },
  "cells": [
    {
      "cell_type": "markdown",
      "metadata": {
        "id": "view-in-github",
        "colab_type": "text"
      },
      "source": [
        "<a href=\"https://colab.research.google.com/github/WayneHung325/Basic_C/blob/main/C_E04.ipynb\" target=\"_parent\"><img src=\"https://colab.research.google.com/assets/colab-badge.svg\" alt=\"Open In Colab\"/></a>"
      ]
    },
    {
      "cell_type": "markdown",
      "source": [
        "###Operators, Expressions, and Statements"
      ],
      "metadata": {
        "id": "fGxV-6g7glB9"
      }
    },
    {
      "cell_type": "code",
      "execution_count": 22,
      "metadata": {
        "colab": {
          "base_uri": "https://localhost:8080/"
        },
        "id": "RsvJ0v42gj9i",
        "outputId": "d2c40176-f8c9-4c45-854c-51d6a2ad58ee"
      },
      "outputs": [
        {
          "output_type": "stream",
          "name": "stdout",
          "text": [
            "Overwriting E04_01.c\n"
          ]
        }
      ],
      "source": [
        "%%writefile E04_01.c\n",
        "#include <stdio.h>\n",
        "#define STEP 10\n",
        "#define LOWER 0\n",
        "#define UPPER 100\n",
        "\n",
        "int main(void)\n",
        "{\n",
        "  int fahr, celsius;\n",
        "  printf(\"fahr     celsius\\n\");\n",
        "  printf(\"----------------\");\n",
        "  celsius = LOWER;\n",
        "\n",
        "  while(celsius<=UPPER)\n",
        "  {\n",
        "    fahr=celsius*1.8+32;\n",
        "    printf(\"%4d%12d\\n\",fahr,celsius);\n",
        "    celsius=celsius+STEP;\n",
        "  }\n",
        "  printf(\"----------------\\n\");\n",
        "  return 0;\n",
        "}"
      ]
    },
    {
      "cell_type": "code",
      "source": [
        "%%shell\n",
        "gcc E04_01.c -o E04_01\n",
        "./E04_01"
      ],
      "metadata": {
        "colab": {
          "base_uri": "https://localhost:8080/"
        },
        "id": "9X_v9oSVhz8g",
        "outputId": "0bbadbcc-f554-4b13-836f-4bece8031ed7"
      },
      "execution_count": 23,
      "outputs": [
        {
          "output_type": "stream",
          "name": "stdout",
          "text": [
            "fahr     celsius\n",
            "----------------  32           0\n",
            "  50          10\n",
            "  68          20\n",
            "  86          30\n",
            " 104          40\n",
            " 122          50\n",
            " 140          60\n",
            " 158          70\n",
            " 176          80\n",
            " 194          90\n",
            " 212         100\n",
            "----------------\n"
          ]
        },
        {
          "output_type": "execute_result",
          "data": {
            "text/plain": []
          },
          "metadata": {},
          "execution_count": 23
        }
      ]
    },
    {
      "cell_type": "markdown",
      "source": [
        "####正整數的十進位分解"
      ],
      "metadata": {
        "id": "4Nt-ywxRpbFS"
      }
    },
    {
      "cell_type": "code",
      "source": [
        "%%writefile E04_02.c\n",
        "#include <stdio.h>\n",
        "int main(void)\n",
        "{\n",
        "  int num,num1;\n",
        "  int num2=1;\n",
        "  printf(\"請輸入一個正整數\\n\");\n",
        "  scanf(\"%d\",&num);\n",
        "  printf(\"%d= \",num);\n",
        "  while(num>10){\n",
        "\n",
        "    num1=num%10;\n",
        "    num=num/10;\n",
        "    printf(\"%d*%d + \",num1,num2);\n",
        "    num2=num2*10;\n",
        "  }\n",
        "\n",
        "  printf(\"%d*%d\",num%10,num2);\n",
        "  return 0;\n",
        "}"
      ],
      "metadata": {
        "colab": {
          "base_uri": "https://localhost:8080/"
        },
        "id": "11SIqP77paxK",
        "outputId": "20bb623f-c63b-4926-d078-200bc2f4d037"
      },
      "execution_count": 15,
      "outputs": [
        {
          "output_type": "stream",
          "name": "stdout",
          "text": [
            "Overwriting E04_02.c\n"
          ]
        }
      ]
    },
    {
      "cell_type": "code",
      "source": [
        "%%shell\n",
        "gcc E04_02.c -o E04_02\n",
        "./E04_02"
      ],
      "metadata": {
        "colab": {
          "base_uri": "https://localhost:8080/"
        },
        "id": "ndH8Me_hDn3d",
        "outputId": "d7222c3e-fba3-4c36-9cc4-454922b97c4a"
      },
      "execution_count": 16,
      "outputs": [
        {
          "output_type": "stream",
          "name": "stdout",
          "text": [
            "請輸入一個正整數\n",
            "12345\n",
            "12345= 5*1 + 4*10 + 3*100 + 2*1000 + 1*10000"
          ]
        },
        {
          "output_type": "execute_result",
          "data": {
            "text/plain": []
          },
          "metadata": {},
          "execution_count": 16
        }
      ]
    },
    {
      "cell_type": "markdown",
      "source": [
        "把 'A' 到 'Z' 的 ASCII code 列出來"
      ],
      "metadata": {
        "id": "noEVW7UOGibB"
      }
    },
    {
      "cell_type": "code",
      "source": [
        "%%writefile E04_03.c\n",
        "#include <stdio.h>\n",
        "int main(void)\n",
        "{\n",
        "  int num = 'A';\n",
        "  while(num<='Z')\n",
        "  {\n",
        "    printf(\"%3d -> %c ,\",num,num);\n",
        "    num++;\n",
        "  }\n",
        "  return 0;\n",
        "}"
      ],
      "metadata": {
        "colab": {
          "base_uri": "https://localhost:8080/"
        },
        "id": "G4hSk1noGi34",
        "outputId": "e53cf2be-5fdf-4b36-ff97-468985e5298e"
      },
      "execution_count": 29,
      "outputs": [
        {
          "output_type": "stream",
          "name": "stdout",
          "text": [
            "Overwriting E04_03.c\n"
          ]
        }
      ]
    },
    {
      "cell_type": "code",
      "source": [
        "%%shell\n",
        "gcc E04_03.c -o E04_03\n",
        "./E04_03"
      ],
      "metadata": {
        "colab": {
          "base_uri": "https://localhost:8080/"
        },
        "id": "els7RyDgIJzz",
        "outputId": "04af7678-0f9e-4139-c7bd-3b7a28d7e5b9"
      },
      "execution_count": 30,
      "outputs": [
        {
          "output_type": "stream",
          "name": "stdout",
          "text": [
            " 65 -> A , 66 -> B , 67 -> C , 68 -> D , 69 -> E , 70 -> F , 71 -> G , 72 -> H , 73 -> I , 74 -> J , 75 -> K , 76 -> L , 77 -> M , 78 -> N , 79 -> O , 80 -> P , 81 -> Q , 82 -> R , 83 -> S , 84 -> T , 85 -> U , 86 -> V , 87 -> W , 88 -> X , 89 -> Y , 90 -> Z ,"
          ]
        },
        {
          "output_type": "execute_result",
          "data": {
            "text/plain": []
          },
          "metadata": {},
          "execution_count": 30
        }
      ]
    },
    {
      "cell_type": "markdown",
      "source": [
        "###Operator \"sizeof\""
      ],
      "metadata": {
        "id": "xc9OeF-LV8Lt"
      }
    },
    {
      "cell_type": "code",
      "source": [],
      "metadata": {
        "id": "i9sVmDzUV7ay"
      },
      "execution_count": null,
      "outputs": []
    }
  ]
}