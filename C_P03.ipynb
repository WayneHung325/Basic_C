{
  "nbformat": 4,
  "nbformat_minor": 0,
  "metadata": {
    "colab": {
      "provenance": [],
      "authorship_tag": "ABX9TyPmVbUAGoKI4sPWYNUCF0Q1",
      "include_colab_link": true
    },
    "kernelspec": {
      "name": "python3",
      "display_name": "Python 3"
    },
    "language_info": {
      "name": "python"
    }
  },
  "cells": [
    {
      "cell_type": "markdown",
      "metadata": {
        "id": "view-in-github",
        "colab_type": "text"
      },
      "source": [
        "<a href=\"https://colab.research.google.com/github/WayneHung325/Basic_C/blob/main/C_P03.ipynb\" target=\"_parent\"><img src=\"https://colab.research.google.com/assets/colab-badge.svg\" alt=\"Open In Colab\"/></a>"
      ]
    },
    {
      "cell_type": "markdown",
      "source": [
        "Char"
      ],
      "metadata": {
        "id": "-3PSEFe4_mai"
      }
    },
    {
      "cell_type": "code",
      "execution_count": 12,
      "metadata": {
        "colab": {
          "base_uri": "https://localhost:8080/"
        },
        "id": "_3GmdBzi6bBD",
        "outputId": "20aea709-2c1a-49c7-ad8c-7a3cd0854edc"
      },
      "outputs": [
        {
          "output_type": "stream",
          "name": "stdout",
          "text": [
            "Overwriting P03_01.c\n"
          ]
        }
      ],
      "source": [
        "%%writefile P03_01.c\n",
        "#include <stdio.h>\n",
        "int main(void)\n",
        "{\n",
        "  char ch;\n",
        "  int num;\n",
        "  scanf(\"%c\",&ch);\n",
        "  printf(\"ASCII of %c is %d\\n\",ch,ch);\n",
        "  scanf(\"%d\",&num);\n",
        "  printf(\"ASCII of %d is %c\\n\",num,num);//%c把傳入的參數的數值所對應的字元顯示出來\n",
        "  return 0;\n",
        "}"
      ]
    },
    {
      "cell_type": "code",
      "source": [
        "%%shell\n",
        "gcc P03_01.c -o P03_01\n",
        "./P03_01"
      ],
      "metadata": {
        "colab": {
          "base_uri": "https://localhost:8080/"
        },
        "id": "RtGDhopbAUBl",
        "outputId": "b9e89851-1f2a-4854-bf41-4cfca1ccc885"
      },
      "execution_count": 14,
      "outputs": [
        {
          "output_type": "stream",
          "name": "stdout",
          "text": [
            "10 h\n",
            "ASCII of 1 is 49\n",
            "ASCII of 0 is \u0000\n"
          ]
        },
        {
          "output_type": "execute_result",
          "data": {
            "text/plain": []
          },
          "metadata": {},
          "execution_count": 14
        }
      ]
    },
    {
      "cell_type": "markdown",
      "source": [
        "####Float和Double\n",
        "傳給printf的float會一律升級成double，輸入時可以直接用科學記號表示，輸出時用%e或%f來指定格式。"
      ],
      "metadata": {
        "id": "zOzxfQxoCYed"
      }
    },
    {
      "cell_type": "code",
      "source": [
        "%%writefile P03_02.c\n",
        "#include <stdio.h>\n",
        "int main(void)\n",
        "{\n",
        "  float x;\n",
        "  double y;\n",
        "  scanf(\"%f\",&x);\n",
        "  scanf(\"%lf\",&y);\n",
        "  printf(\"%f and %e\\n\",x,x);\n",
        "  printf(\"%f and %e\\n\",y,y);\n",
        "\n",
        "  return 0;\n",
        "}"
      ],
      "metadata": {
        "colab": {
          "base_uri": "https://localhost:8080/"
        },
        "id": "qSJgvqzOCXYC",
        "outputId": "e08eae81-4468-4654-f1ff-666b1aa9e7dd"
      },
      "execution_count": 32,
      "outputs": [
        {
          "output_type": "stream",
          "name": "stdout",
          "text": [
            "Overwriting P03_02.c\n"
          ]
        }
      ]
    },
    {
      "cell_type": "code",
      "source": [
        "%%shell\n",
        "gcc P03_02.c -o P03_02\n",
        "./P03_02"
      ],
      "metadata": {
        "colab": {
          "base_uri": "https://localhost:8080/"
        },
        "id": "-sC8XK6GDMWu",
        "outputId": "5d7ccfec-d89b-4409-a4dd-08b08a087144"
      },
      "execution_count": 33,
      "outputs": [
        {
          "output_type": "stream",
          "name": "stdout",
          "text": [
            "5.62e56\n",
            "3.145e12\n",
            "inf and inf\n",
            "3145000000000.000000 and 3.145000e+12\n"
          ]
        },
        {
          "output_type": "execute_result",
          "data": {
            "text/plain": []
          },
          "metadata": {},
          "execution_count": 33
        }
      ]
    },
    {
      "cell_type": "markdown",
      "source": [
        "讓使用者輸入星期一到星期五每天花多少錢，計算出總和以及平均值，然後把結果顯示在螢幕上。所有變數都是用 float 型別。"
      ],
      "metadata": {
        "id": "CECSFodmN97n"
      }
    },
    {
      "cell_type": "code",
      "source": [
        "%%writefile P03_03.c\n",
        "#include <stdio.h>\n",
        "int main(void)\n",
        "{\n",
        "  float mon,tue,wed,thu,fri;\n",
        "  printf(\"請輸入您星期一到五一共花了多少錢\\n\");\n",
        "  scanf(\"%f%f%f%f%f\",&mon,&tue,&wed,&thu,&fri);\n",
        "  printf(\"你一周花費平均為： %.2f\",(mon+tue+wed+thu+fri)/5);\n",
        "}"
      ],
      "metadata": {
        "colab": {
          "base_uri": "https://localhost:8080/"
        },
        "id": "ktNW5yJqMr96",
        "outputId": "f8b057ec-1dd5-4269-ffa4-b65160b9e204"
      },
      "execution_count": 5,
      "outputs": [
        {
          "output_type": "stream",
          "name": "stdout",
          "text": [
            "Overwriting P03_03.c\n"
          ]
        }
      ]
    },
    {
      "cell_type": "code",
      "source": [
        "%%shell\n",
        "gcc P03_03.c -o P03_03\n",
        "./P03_03"
      ],
      "metadata": {
        "colab": {
          "base_uri": "https://localhost:8080/"
        },
        "id": "rzWnemW6No_w",
        "outputId": "ccb97481-5f0d-41ee-80c7-004599bfc084"
      },
      "execution_count": 6,
      "outputs": [
        {
          "output_type": "stream",
          "name": "stdout",
          "text": [
            "請輸入您星期一到五一共花了多少錢\n",
            "50 49 48 47 46\n",
            "你一周花費平均為： 48.00"
          ]
        },
        {
          "output_type": "execute_result",
          "data": {
            "text/plain": []
          },
          "metadata": {},
          "execution_count": 6
        }
      ]
    },
    {
      "cell_type": "markdown",
      "source": [
        "讓使用者輸入一個 ASCII code 值 (整數值)，程式要顯示對應的字元。"
      ],
      "metadata": {
        "id": "K3lj89ORODjX"
      }
    },
    {
      "cell_type": "code",
      "source": [
        "%%writefile P03_04.c\n",
        "#include <stdio.h>\n",
        "int main(void)\n",
        "{\n",
        "  int word;\n",
        "  printf(\"請輸入ASCII值，我將為您顯示字元!\\n\");\n",
        "  scanf(\"%d\",&word);\n",
        "  printf(\"您輸入%d，其對應的字元為%c\\n\",word,(char)word);\n",
        "\n",
        "}"
      ],
      "metadata": {
        "colab": {
          "base_uri": "https://localhost:8080/"
        },
        "id": "qrADz2ryOBMJ",
        "outputId": "c1ae736c-287a-4741-ba2e-2cdd07ff9717"
      },
      "execution_count": 18,
      "outputs": [
        {
          "output_type": "stream",
          "name": "stdout",
          "text": [
            "Overwriting P03_04.c\n"
          ]
        }
      ]
    },
    {
      "cell_type": "code",
      "source": [
        "%%shell\n",
        "gcc P03_04.c -o P03_04\n",
        "./P03_04"
      ],
      "metadata": {
        "colab": {
          "base_uri": "https://localhost:8080/"
        },
        "id": "H32aZlTwPORE",
        "outputId": "225fdd38-8ae6-4d4b-9997-1d8f7fd1667a"
      },
      "execution_count": 19,
      "outputs": [
        {
          "output_type": "stream",
          "name": "stdout",
          "text": [
            "請輸入ASCII值，我將為您顯示字元!\n",
            "100\n",
            "您輸入100，其對應的字元為d\n"
          ]
        },
        {
          "output_type": "execute_result",
          "data": {
            "text/plain": []
          },
          "metadata": {},
          "execution_count": 19
        }
      ]
    },
    {
      "cell_type": "markdown",
      "source": [
        "用 sizeof 查 unsigned int, float 的大小。"
      ],
      "metadata": {
        "id": "JH0xAQuFQTdT"
      }
    },
    {
      "cell_type": "code",
      "source": [
        "%%writefile P03_05.c\n",
        "#include <stdio.h>\n",
        "int main(void)\n",
        "{\n",
        "  unsigned int num1;\n",
        "  printf(\"請輸入一個unsigned int\\n\");\n",
        "  scanf(\"%u\",&num1);\n",
        "  printf(\"您輸入的%u，其大小為%ld\\n個bytes\",num1,sizeof(num1));\n",
        "\n",
        "}"
      ],
      "metadata": {
        "colab": {
          "base_uri": "https://localhost:8080/"
        },
        "id": "biLb2bsRQS0w",
        "outputId": "a20727b4-306c-4a28-9bd0-64541ef8715d"
      },
      "execution_count": 30,
      "outputs": [
        {
          "output_type": "stream",
          "name": "stdout",
          "text": [
            "Overwriting P03_05.c\n"
          ]
        }
      ]
    },
    {
      "cell_type": "code",
      "source": [
        "%%shell\n",
        "gcc P03_05.c -o P03_05\n",
        "./P03_05"
      ],
      "metadata": {
        "colab": {
          "base_uri": "https://localhost:8080/"
        },
        "id": "JLulSU4ASGik",
        "outputId": "a6917a2a-f857-4ee1-f4cf-68cf1ae97764"
      },
      "execution_count": 31,
      "outputs": [
        {
          "output_type": "stream",
          "name": "stdout",
          "text": [
            "請輸入一個unsigned int\n",
            "df\n",
            "您輸入的0，其大小為4\n",
            "個bytes"
          ]
        },
        {
          "output_type": "execute_result",
          "data": {
            "text/plain": []
          },
          "metadata": {},
          "execution_count": 31
        }
      ]
    },
    {
      "cell_type": "markdown",
      "source": [
        "用 #define 替 3.14159 取個名字叫做 PI，用 scanf() 讓使用者輸入圓半徑並存入變數 radius 中，用 PI 和 radius 計算圓面積並用 printf() 顯示出結果。"
      ],
      "metadata": {
        "id": "uQuyEtWDTRNI"
      }
    },
    {
      "cell_type": "code",
      "source": [
        "%%writefile P03_06.c\n",
        "#include <stdio.h>\n",
        "#define PI 3.14159\n",
        "int main(void)\n",
        "{\n",
        "  double radius;\n",
        "  printf(\"請輸入半徑長\\n\");\n",
        "  scanf(\"%lf\",&radius);\n",
        "  printf(\"該圓形成的面積為%f\\n\",radius*radius*PI);\n",
        "}"
      ],
      "metadata": {
        "colab": {
          "base_uri": "https://localhost:8080/"
        },
        "id": "RPkYLgxITQsG",
        "outputId": "e94ead98-3ffd-4924-ce2d-cf4b6d8c1042"
      },
      "execution_count": 41,
      "outputs": [
        {
          "output_type": "stream",
          "name": "stdout",
          "text": [
            "Overwriting P03_06.c\n"
          ]
        }
      ]
    },
    {
      "cell_type": "code",
      "source": [
        "%%shell\n",
        "gcc P03_06.c -o P03_06\n",
        "./P03_06"
      ],
      "metadata": {
        "colab": {
          "base_uri": "https://localhost:8080/"
        },
        "id": "BvQQSx__TyxJ",
        "outputId": "4e44c2ad-3497-4b83-c559-94901337f706"
      },
      "execution_count": 42,
      "outputs": [
        {
          "output_type": "stream",
          "name": "stdout",
          "text": [
            "請輸入半徑長\n",
            "56\n",
            "該圓形成的面積為9852.026240\n"
          ]
        },
        {
          "output_type": "execute_result",
          "data": {
            "text/plain": []
          },
          "metadata": {},
          "execution_count": 42
        }
      ]
    },
    {
      "cell_type": "markdown",
      "source": [
        "用 #define 設定一個叫做 COMPOSER 的字串，字串內容是 \"J. S. Bach\"。測試看看用 printf() 顯示COMPOSER 字串時，格式如果用 %10.5s 和 %-10.5s 有什麼差別。"
      ],
      "metadata": {
        "id": "6bws3IjsUn9k"
      }
    },
    {
      "cell_type": "code",
      "source": [
        "%%writefile P03_07.c\n",
        "#include <stdio.h>\n",
        "#define COMPOSER \"J.S.Bach\"\n",
        "int main(void)\n",
        "{\n",
        "  printf(\"%-10.5s\\n\",COMPOSER);\n",
        "  printf(\"%10.5s\\n\",COMPOSER);\n",
        "}"
      ],
      "metadata": {
        "colab": {
          "base_uri": "https://localhost:8080/"
        },
        "id": "Xo8ndySxUm0e",
        "outputId": "b36222ec-861e-423b-99e1-ad436bafe1dd"
      },
      "execution_count": 55,
      "outputs": [
        {
          "output_type": "stream",
          "name": "stdout",
          "text": [
            "Overwriting P03_07.c\n"
          ]
        }
      ]
    },
    {
      "cell_type": "code",
      "source": [
        "%%shell\n",
        "gcc P03_07.c -o P03_07\n",
        "./P03_07"
      ],
      "metadata": {
        "colab": {
          "base_uri": "https://localhost:8080/"
        },
        "id": "h5lP_qNkVEfa",
        "outputId": "3ab2e410-a455-4b72-9426-bbf518c14242"
      },
      "execution_count": 56,
      "outputs": [
        {
          "output_type": "stream",
          "name": "stdout",
          "text": [
            "J.S.B     \n",
            "     J.S.B\n"
          ]
        },
        {
          "output_type": "execute_result",
          "data": {
            "text/plain": []
          },
          "metadata": {},
          "execution_count": 56
        }
      ]
    },
    {
      "cell_type": "markdown",
      "source": [
        "使用者輸入其名，計算多少個字母，以及所占記憶體大小"
      ],
      "metadata": {
        "id": "36k5k4icW8ac"
      }
    },
    {
      "cell_type": "code",
      "source": [
        "%%writefile P03_08.c\n",
        "#include <stdio.h>\n",
        "#include <string.h>\n",
        "int main(void)\n",
        "{\n",
        "  int letters;\n",
        "  char name[10];\n",
        "  scanf(\"%s\",name);\n",
        "  letters = strlen(name);\n",
        "\n",
        "  printf(\"Your name has %d letters.\\n\",letters);\n",
        "  printf(\"我們使用%lu bytes儲存您的名字字數\\n\",sizeof(letters));\n",
        "\n",
        "  printf(\"我們使用%lu bytes儲存您的名字\",sizeof(name));\n",
        "}"
      ],
      "metadata": {
        "colab": {
          "base_uri": "https://localhost:8080/"
        },
        "id": "3BBFp4UeW5zu",
        "outputId": "1a3fa898-2400-4bb6-af82-89d64ab2c994"
      },
      "execution_count": 25,
      "outputs": [
        {
          "output_type": "stream",
          "name": "stdout",
          "text": [
            "Overwriting P03_08.c\n"
          ]
        }
      ]
    },
    {
      "cell_type": "code",
      "source": [
        "%%shell\n",
        "gcc P03_08.c -o P03_08\n",
        "./P03_08"
      ],
      "metadata": {
        "colab": {
          "base_uri": "https://localhost:8080/"
        },
        "id": "XK1cQTJvX_uz",
        "outputId": "cd512318-7a8b-4165-be19-0f0ad4de88ad"
      },
      "execution_count": 26,
      "outputs": [
        {
          "output_type": "stream",
          "name": "stdout",
          "text": [
            "wayne\n",
            "Your name has 5 letters.\n",
            "我們使用4 bytes儲存您的名字字數\n",
            "我們使用10 bytes儲存您的名字"
          ]
        },
        {
          "output_type": "execute_result",
          "data": {
            "text/plain": []
          },
          "metadata": {},
          "execution_count": 26
        }
      ]
    }
  ]
}