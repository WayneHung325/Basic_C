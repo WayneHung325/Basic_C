{
  "nbformat": 4,
  "nbformat_minor": 0,
  "metadata": {
    "colab": {
      "provenance": [],
      "authorship_tag": "ABX9TyPYdzFwga0bIpwxKGcnUGCc",
      "include_colab_link": true
    },
    "kernelspec": {
      "name": "python3",
      "display_name": "Python 3"
    },
    "language_info": {
      "name": "python"
    }
  },
  "cells": [
    {
      "cell_type": "markdown",
      "metadata": {
        "id": "view-in-github",
        "colab_type": "text"
      },
      "source": [
        "<a href=\"https://colab.research.google.com/github/WayneHung325/Basic_C/blob/main/%E7%B7%B4%E7%BF%92%E9%A1%8CP01.ipynb\" target=\"_parent\"><img src=\"https://colab.research.google.com/assets/colab-badge.svg\" alt=\"Open In Colab\"/></a>"
      ]
    },
    {
      "cell_type": "markdown",
      "source": [
        "###練習題P01"
      ],
      "metadata": {
        "id": "RinrETNbip34"
      }
    },
    {
      "cell_type": "markdown",
      "source": [
        "####練習題1\n",
        "printf 括號裡 用逗點隔開 是什麼意思？\n",
        "\n",
        "-> 逗號可隔開參數，printf可以接受多個參數，第一個參數是格式化字串(format string)，格式化字串內可能包含格式說明符，用%來開頭；也可能包含轉義序列(escape sequences)，用反斜線\\來表示控制字符(\\n \\r \\b)或非控制字符(\\0)，如\\n表示換行。\n",
        "\n",
        "百分比加 d 有什麼作用？\n",
        "\n",
        "-> 格式說明符來控制輸出格式，%d表示以十進制形式輸出一個整數。\n",
        "\n",
        "1234+5678 的運算什麼時候算？\n",
        "\n",
        "-> 在printf被調用之前所有的參數會被計算完畢，調用時函數會收到格式化字串以及參數值。"
      ],
      "metadata": {
        "id": "mD54b09-jrWg"
      }
    },
    {
      "cell_type": "code",
      "source": [
        "%%writefile P01_01.c\n",
        "#include <stdio.h>\n",
        "int main(void)\n",
        "{\n",
        "  printf(\"%d\\n\",1234+5678);\n",
        "  return 0;\n",
        "}\n"
      ],
      "metadata": {
        "colab": {
          "base_uri": "https://localhost:8080/"
        },
        "id": "6XUkfdIZioeg",
        "outputId": "6c822b1e-ae6d-46e0-ef9a-f45e8c2aeee8"
      },
      "execution_count": 5,
      "outputs": [
        {
          "output_type": "stream",
          "name": "stdout",
          "text": [
            "Overwriting P01_01.c\n"
          ]
        }
      ]
    },
    {
      "cell_type": "code",
      "source": [
        "%%shell\n",
        "gcc P01_01.c -o P01_01\n",
        "./P01_01"
      ],
      "metadata": {
        "colab": {
          "base_uri": "https://localhost:8080/"
        },
        "id": "bqMxIqeMjFL2",
        "outputId": "24417425-69c9-46e4-cb36-790d6274763f"
      },
      "execution_count": 6,
      "outputs": [
        {
          "output_type": "stream",
          "name": "stdout",
          "text": [
            "6912\n"
          ]
        },
        {
          "output_type": "execute_result",
          "data": {
            "text/plain": []
          },
          "metadata": {},
          "execution_count": 6
        }
      ]
    },
    {
      "cell_type": "markdown",
      "source": [
        "####練習題2\n",
        "scanf 為什麼不用 \\n\n",
        "自動處理空白字符。\n",
        "\n",
        "scanf 後面的 x 會什麼要加 &\n",
        "\n",
        "-> scanf 需要變量的地址來存儲讀取的值。"
      ],
      "metadata": {
        "id": "28c87j2hiiwW"
      }
    },
    {
      "cell_type": "code",
      "source": [
        "%%writefile P01_02.c\n",
        "#include <stdio.h>\n",
        "int main(void)\n",
        "{\n",
        "  int x,y;\n",
        "  scanf(\"%d\",&x);\n",
        "  scanf(\"%d\",&y);\n",
        "  printf(\"%d * %d = %d\",x,y,x*y);\n",
        "\n",
        "}"
      ],
      "metadata": {
        "colab": {
          "base_uri": "https://localhost:8080/"
        },
        "id": "3ZMSuXmYoiQw",
        "outputId": "9de43442-b379-4287-edc2-3192e382b3aa"
      },
      "execution_count": 7,
      "outputs": [
        {
          "output_type": "stream",
          "name": "stdout",
          "text": [
            "Writing P01_02.c\n"
          ]
        }
      ]
    },
    {
      "cell_type": "code",
      "source": [
        "%%shell\n",
        "gcc P01_02.c -o P01_02\n",
        "./P01_02"
      ],
      "metadata": {
        "colab": {
          "base_uri": "https://localhost:8080/"
        },
        "id": "yaxSy1S5pJDi",
        "outputId": "d2ea6809-f19d-4629-9132-f8331a15a65a"
      },
      "execution_count": 8,
      "outputs": [
        {
          "output_type": "stream",
          "name": "stdout",
          "text": [
            "5 10\n",
            "5 * 10 = 50"
          ]
        },
        {
          "output_type": "execute_result",
          "data": {
            "text/plain": []
          },
          "metadata": {},
          "execution_count": 8
        }
      ]
    },
    {
      "cell_type": "markdown",
      "source": [
        "####練習題3\n"
      ],
      "metadata": {
        "id": "UPPhwm3SrrpL"
      }
    },
    {
      "cell_type": "code",
      "source": [
        "%%writefile P01_03.c\n",
        "#include <stdio.h>\n",
        "int main(void)\n",
        "{\n",
        "  int x;\n",
        "  double y;\n",
        "\n",
        "  x=567;\n",
        "  y=3.14159;\n",
        "\n",
        "  printf(\"%5d\\n\",x);\n",
        "  printf(\"%.4f\\n\",y);\n",
        "\n",
        "  return 0;\n",
        "\n",
        "}"
      ],
      "metadata": {
        "colab": {
          "base_uri": "https://localhost:8080/"
        },
        "id": "C9K9pj8RsKKm",
        "outputId": "40740a8c-0d7e-4bf8-ed40-c864802d405b"
      },
      "execution_count": 13,
      "outputs": [
        {
          "output_type": "stream",
          "name": "stdout",
          "text": [
            "Overwriting P01_03.c\n"
          ]
        }
      ]
    },
    {
      "cell_type": "code",
      "source": [
        "%%shell\n",
        "gcc P01_03.c -o P01_03\n",
        "./P01_03"
      ],
      "metadata": {
        "colab": {
          "base_uri": "https://localhost:8080/"
        },
        "id": "8xFJIzUTsqZL",
        "outputId": "1ac2d358-5de6-4f2f-c0fb-7c5a9ebe411d"
      },
      "execution_count": 15,
      "outputs": [
        {
          "output_type": "stream",
          "name": "stdout",
          "text": [
            "  567\n",
            "3.1416\n"
          ]
        },
        {
          "output_type": "execute_result",
          "data": {
            "text/plain": []
          },
          "metadata": {},
          "execution_count": 15
        }
      ]
    },
    {
      "cell_type": "markdown",
      "source": [
        "####練習題4\n",
        "\n",
        "\n"
      ],
      "metadata": {
        "id": "abEgpI6AuT05"
      }
    },
    {
      "cell_type": "markdown",
      "source": [
        "\n",
        "\n",
        "* 清單程式最前面出現的 void strike(void); 稱作 prototype，它的作用是讓 compiler 先知道 strike() 這個 function 要如何使用。\n",
        "\n",
        "* 它真正被用到的地方是在 main() 裡面，其中 strike() 被呼叫了三次，而 ball() 被呼叫了一次。呼叫的方式是 strike(); 因為沒有參數，所以括號裡面什麼都不用寫 (但是不能把括號省略，因為這樣才知道它是個 function)。\n",
        "\n",
        "* 這兩個 functions 都沒有像 main() 最後有一行 return，因為它們的回傳值都定成 void，表示不需要回傳任何資訊。\n",
        "\n",
        "* printf() 的 prototype 其實是寫在 stdio.h 裡面，再靠#include 貼到程式的最前面。至於 printf() 的定義 (也就是 function 的主體) 則是寫在另外的程式碼裡，而且被預先compile 過，放進 library 中，當我們 compile 這個範例程式的時候，就會去和 library 連結起來，這樣一來，當程式執行到printf(\"Strike!\\n\"); 的時候，電腦就知道該做什麼事以及該如何做了。\n",
        "\n"
      ],
      "metadata": {
        "id": "rWOTFreMv5na"
      }
    },
    {
      "cell_type": "code",
      "source": [
        "%%writefile P01_04.c\n",
        "#include <stdio.h>\n",
        "void strike(void);\n",
        "void ball(void);\n",
        "\n",
        "int main(void)\n",
        "{\n",
        "  strike();\n",
        "  ball();\n",
        "  return 0;\n",
        "}\n",
        "\n",
        "void strike(void)\n",
        "{\n",
        "  printf(\"Strike!\\n\");\n",
        "}\n",
        "void ball(void)\n",
        "{\n",
        "printf(\"Ball!\\n\");\n",
        "}"
      ],
      "metadata": {
        "colab": {
          "base_uri": "https://localhost:8080/"
        },
        "id": "pb3ZnOYCuyW0",
        "outputId": "b218e658-48e8-4822-8845-7c0af5b9a3f5"
      },
      "execution_count": 21,
      "outputs": [
        {
          "output_type": "stream",
          "name": "stdout",
          "text": [
            "Overwriting P01_04.c\n"
          ]
        }
      ]
    },
    {
      "cell_type": "code",
      "source": [
        "%%shell\n",
        "gcc P01_04.c -o P01_04\n",
        "./P01_04"
      ],
      "metadata": {
        "colab": {
          "base_uri": "https://localhost:8080/"
        },
        "id": "kRYQluJnvM5H",
        "outputId": "138236ed-07e6-4a5a-cb7a-b0966f07790e"
      },
      "execution_count": 22,
      "outputs": [
        {
          "output_type": "stream",
          "name": "stdout",
          "text": [
            "Strike!\n",
            "Ball!\n"
          ]
        },
        {
          "output_type": "execute_result",
          "data": {
            "text/plain": []
          },
          "metadata": {},
          "execution_count": 22
        }
      ]
    }
  ]
}