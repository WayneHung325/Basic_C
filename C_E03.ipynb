{
  "nbformat": 4,
  "nbformat_minor": 0,
  "metadata": {
    "colab": {
      "provenance": [],
      "authorship_tag": "ABX9TyPiLX/QKAmIogPNcJ2FoJ5/",
      "include_colab_link": true
    },
    "kernelspec": {
      "name": "python3",
      "display_name": "Python 3"
    },
    "language_info": {
      "name": "python"
    }
  },
  "cells": [
    {
      "cell_type": "markdown",
      "metadata": {
        "id": "view-in-github",
        "colab_type": "text"
      },
      "source": [
        "<a href=\"https://colab.research.google.com/github/WayneHung325/Basic_C/blob/main/C_E03.ipynb\" target=\"_parent\"><img src=\"https://colab.research.google.com/assets/colab-badge.svg\" alt=\"Open In Colab\"/></a>"
      ]
    },
    {
      "cell_type": "markdown",
      "source": [
        "scanf()在讀取變數值後需要回傳給對應的記憶體位址，故變數名稱前要加&。"
      ],
      "metadata": {
        "id": "fxnlyhDKw0ge"
      }
    },
    {
      "cell_type": "code",
      "execution_count": null,
      "metadata": {
        "colab": {
          "base_uri": "https://localhost:8080/"
        },
        "id": "FOGNwyiCFEDv",
        "outputId": "e9f212a4-df57-4fc1-d904-0665d960c72d"
      },
      "outputs": [
        {
          "output_type": "stream",
          "name": "stdout",
          "text": [
            "total 20\n",
            "drwxr-xr-x 1 root root 4096 Aug  1 12:25 .\n",
            "drwxr-xr-x 1 root root 4096 Aug  1 12:15 ..\n",
            "drwxr-xr-x 4 root root 4096 Jul 30 13:24 .config\n",
            "-rw-r--r-- 1 root root  103 Aug  1 12:25 E02_04.c\n",
            "drwxr-xr-x 1 root root 4096 Jul 30 13:24 sample_data\n",
            "cat: hello_world.c: No such file or directory\n"
          ]
        }
      ],
      "source": [
        "! ls -la\n",
        "!cat hello_world.c"
      ]
    },
    {
      "cell_type": "code",
      "source": [
        "%%writefile E02_04.c\n",
        "#include <stdio.h>\n",
        "int main(void)\n",
        "{\n",
        "  double x,y;\n",
        "  scanf(\"%lf%lf\",&x,&y);\n",
        "  printf(\"x=%10.10f and y=%10.10f\",x,y);\n",
        "  return 0;\n",
        "}\n"
      ],
      "metadata": {
        "colab": {
          "base_uri": "https://localhost:8080/"
        },
        "id": "TSmA7BVPIvHH",
        "outputId": "20cfd74b-6230-4c35-9035-bf75b242fe80"
      },
      "execution_count": null,
      "outputs": [
        {
          "output_type": "stream",
          "name": "stdout",
          "text": [
            "Overwriting E02_04.c\n"
          ]
        }
      ]
    },
    {
      "cell_type": "code",
      "source": [
        "%%shell\n",
        "gcc E02_04.c -o E02_04\n",
        "./E02_04"
      ],
      "metadata": {
        "colab": {
          "base_uri": "https://localhost:8080/"
        },
        "id": "Vpe8O05F5w_Q",
        "outputId": "ef7313e6-277e-4465-9365-305671b95632"
      },
      "execution_count": null,
      "outputs": [
        {
          "output_type": "stream",
          "name": "stdout",
          "text": [
            "0.123456789123 0.123456789123\n",
            "x=0.1234567891 and y=0.1234567891"
          ]
        },
        {
          "output_type": "execute_result",
          "data": {
            "text/plain": []
          },
          "metadata": {},
          "execution_count": 17
        }
      ]
    },
    {
      "cell_type": "code",
      "source": [
        "%%writefile E02_05.c\n",
        "#include <stdio.h>\n",
        "\n",
        "double square(double y)\n",
        "{\n",
        "  return y*y;\n",
        "}\n",
        "int main(void)\n",
        "{\n",
        "  double x,y;\n",
        "  scanf(\"%lf%lf\",&x,&y);\n",
        "  printf(\"the square of %f and %f are seperatly %f and %f\",x,y,square(x),square(y));\n",
        "  return 0;\n",
        "}"
      ],
      "metadata": {
        "colab": {
          "base_uri": "https://localhost:8080/"
        },
        "id": "R3t71dHw_2f6",
        "outputId": "2d33d788-af82-4961-9fc1-2061fef02def"
      },
      "execution_count": null,
      "outputs": [
        {
          "output_type": "stream",
          "name": "stdout",
          "text": [
            "Overwriting E02_05.c\n"
          ]
        }
      ]
    },
    {
      "cell_type": "code",
      "source": [
        "%%shell\n",
        "gcc E02_05.c -o E02_05\n",
        "./E02_05"
      ],
      "metadata": {
        "colab": {
          "base_uri": "https://localhost:8080/"
        },
        "id": "Xg-4EVPjA5Fl",
        "outputId": "925b7ba5-38ce-408b-eb34-70375b38d804"
      },
      "execution_count": null,
      "outputs": [
        {
          "output_type": "stream",
          "name": "stdout",
          "text": [
            "0.12 0.13\n",
            "the square of 0.120000 and 0.130000 are seperatly 0.014400 and 0.016900"
          ]
        },
        {
          "output_type": "execute_result",
          "data": {
            "text/plain": []
          },
          "metadata": {},
          "execution_count": 21
        }
      ]
    },
    {
      "cell_type": "code",
      "source": [
        "%%writefile E02_06.c\n",
        "# include <stdio.h>\n",
        "int main(void)\n",
        "{\n",
        "  int fahr; int celsius;\n",
        "  // this program need debugging\n",
        "  fahr = 52;\n",
        "  celsius = 9 * (fahr - 32) / 5;\n",
        "  printf(\" %d degrees Fahrenheit = %d degrees Celsius.\\n\", fahr,celsius);\n",
        "\n",
        "  return 0;\n",
        "}"
      ],
      "metadata": {
        "colab": {
          "base_uri": "https://localhost:8080/"
        },
        "id": "NfZ2uWjWByYU",
        "outputId": "5825e3c7-e11c-43f0-82dc-dccd6fa4b7f3"
      },
      "execution_count": null,
      "outputs": [
        {
          "output_type": "stream",
          "name": "stdout",
          "text": [
            "Overwriting E02_06.c\n"
          ]
        }
      ]
    },
    {
      "cell_type": "code",
      "source": [
        "%%shell\n",
        "gcc E02_06.c -o E02_06\n",
        "./E02_06"
      ],
      "metadata": {
        "colab": {
          "base_uri": "https://localhost:8080/"
        },
        "id": "Drgm4AQWCFP1",
        "outputId": "02740353-c462-4cb1-af99-6a1ebd68b768"
      },
      "execution_count": null,
      "outputs": [
        {
          "output_type": "stream",
          "name": "stdout",
          "text": [
            " 52 degrees Fahrenheit = 36 degrees Celsius.\n"
          ]
        },
        {
          "output_type": "execute_result",
          "data": {
            "text/plain": []
          },
          "metadata": {},
          "execution_count": 33
        }
      ]
    },
    {
      "cell_type": "markdown",
      "source": [
        "### 字元陣列\n",
        "陣列本身是一連串的記憶體空間，而字串中的字元需要被一連串地儲存，因此適合以陣列儲存。字元陣列的每一格可以存放一個字元，因此當我們宣告**char name[10]**時，表示要保留十格空間存放十個字元，每一格可以容納一個 char 型別的資料。當然除了 char 之外，也可用其他型別如 int 來宣告陣列，目前我們先專心探討字元陣列。\n",
        "\n",
        "C語言使用特殊字元'\\0'去表示字串結尾，其對應ASCII值是0。如何把字串存入陣列中呢?可以使用**scanf(\"%s\",name)**讀取使用者輸入的字串，所以 %s 就表示要把使用者輸入的東西當作 \"字串\" 讀進來，然後參數 name 就是要存放字串的陣列名稱，這個名稱所代表的意義是整個字串的開頭位址。因此 scanf() 就能由 name 找到陣列開頭位址，一格一格把字元填進去，而且會自動在最後加上 '\\0' 當作結束。\n",
        "\n"
      ],
      "metadata": {
        "id": "oHS3cvu9GEHR"
      }
    },
    {
      "cell_type": "markdown",
      "source": [
        "### #define用法\n",
        "**\\#define SPEED 0.083** 利用 C Preprocessor 來做前處理，在 compile 之 前，會先把程式裡所有出現的 SPEED 字眼通通取代成 0.083。"
      ],
      "metadata": {
        "id": "YKz5tQvnLsbq"
      }
    },
    {
      "cell_type": "code",
      "source": [
        "%%writefile E03_01.c\n",
        "#include <stdio.h>\n",
        "#include <string.h> //為了使用 strlen 函數\n",
        "\n",
        "int main(void)\n",
        "{\n",
        "  int size, letters;\n",
        "  char name[10];\n",
        "  printf(\"Hi! What's your first name? \");\n",
        "  scanf(\"%9s\",name); //限制僅讀取9個字元\n",
        "  size=sizeof(name);\n",
        "  letters=strlen(name);\n",
        "\n",
        "  printf(\"\\nYour first name has %d letters,which is %s\\n\", letters,name);\n",
        "  printf(\"and we have %d bytes to store it in.\\n\", size);\n",
        "\n",
        "  return 0;\n",
        "}"
      ],
      "metadata": {
        "colab": {
          "base_uri": "https://localhost:8080/"
        },
        "id": "SDiihurcGJw4",
        "outputId": "16a5cbb2-6cd8-49b0-a00b-d05f25e0eb32"
      },
      "execution_count": null,
      "outputs": [
        {
          "output_type": "stream",
          "name": "stdout",
          "text": [
            "Overwriting E03.01.c\n"
          ]
        }
      ]
    },
    {
      "cell_type": "code",
      "source": [
        "%%shell\n",
        "gcc E03_01.c -o E03_01\n",
        "./E03_01"
      ],
      "metadata": {
        "colab": {
          "base_uri": "https://localhost:8080/"
        },
        "id": "O5hyy5fmK2aa",
        "outputId": "efcb74c3-51ce-4138-906e-32ff532f0d62"
      },
      "execution_count": null,
      "outputs": [
        {
          "output_type": "stream",
          "name": "stdout",
          "text": [
            "Hi! What's your first name? HUNG\n",
            "\n",
            "Your first name has 4 letters,which is HUNG\n",
            "and we have 10 bytes to store it in.\n"
          ]
        },
        {
          "output_type": "execute_result",
          "data": {
            "text/plain": []
          },
          "metadata": {},
          "execution_count": 4
        }
      ]
    },
    {
      "cell_type": "markdown",
      "source": [
        "### 一些printf(\" \")的使用\n"
      ],
      "metadata": {
        "id": "-1-CxPEXOBJx"
      }
    },
    {
      "cell_type": "code",
      "source": [
        "%%writefile E03_02.c\n",
        "#include <stdio.h>\n",
        "#define ENGINE 1499.99\n",
        "\n",
        "void test_float(void)\n",
        "{\n",
        "  printf(\"~%-12.1e~\\n\",ENGINE);\n",
        "}\n",
        "int main(void)\n",
        "{\n",
        "  test_float();\n",
        "  return 0;\n",
        "}"
      ],
      "metadata": {
        "colab": {
          "base_uri": "https://localhost:8080/"
        },
        "id": "e_iBPZ9qOO53",
        "outputId": "6f017f4c-12a1-4084-a700-62c9f77ab5c7"
      },
      "execution_count": null,
      "outputs": [
        {
          "output_type": "stream",
          "name": "stdout",
          "text": [
            "Overwriting E03.02.c\n"
          ]
        }
      ]
    },
    {
      "cell_type": "code",
      "source": [
        "%%shell\n",
        "gcc E03_02.c -o E03_02\n",
        "./E03_02"
      ],
      "metadata": {
        "colab": {
          "base_uri": "https://localhost:8080/"
        },
        "id": "I1t0cJO3RunN",
        "outputId": "35eb27d4-8e39-4649-b94b-d820c33a2541"
      },
      "execution_count": null,
      "outputs": [
        {
          "output_type": "stream",
          "name": "stdout",
          "text": [
            "~1.5e+03     ~\n"
          ]
        },
        {
          "output_type": "execute_result",
          "data": {
            "text/plain": []
          },
          "metadata": {},
          "execution_count": 9
        }
      ]
    },
    {
      "cell_type": "markdown",
      "source": [
        "%.8"
      ],
      "metadata": {
        "id": "mSUboe8-Wrib"
      }
    },
    {
      "cell_type": "code",
      "source": [
        "%%writefile E03_03.c\n",
        "#include <stdio.h>\n",
        "#include <string.h>\n",
        "#define BORDER \"##########################\"\n",
        "int main(void)\n",
        "{\n",
        "  char word[26];\n",
        "  printf(\"Please type the word\\n\");\n",
        "  scanf(\"%25s\",word);\n",
        "  //printf(\"#%10.5s#\\n\",word);//占10個格子\n",
        "  printf(\"%.*s\\n\",(int)strlen(word)+2,BORDER);\n",
        "  printf(\"#%.*s#\\n\",(int)strlen(word),word);\n",
        "  printf(\"%.*s\\n\",(int)strlen(word)+2,BORDER);\n",
        "\n",
        "  printf(\"%s\\n\",__TIME__);\n",
        "  printf(\"%s\\n\",__FILE__);\n",
        "  printf(\"%d\\n\",__LINE__);\n",
        "  printf(\"%s\\n\",__func__);\n",
        "  printf(\"%s\\n\",__DATE__);//上述資訊為編譯前的時間，並非運行時間\n",
        "\n",
        "\n",
        "  return 0;\n",
        "}"
      ],
      "metadata": {
        "colab": {
          "base_uri": "https://localhost:8080/"
        },
        "id": "qsEajcizWzgg",
        "outputId": "d72fe97d-ccdc-4e5d-a6fc-61719ecfb390"
      },
      "execution_count": null,
      "outputs": [
        {
          "output_type": "stream",
          "name": "stdout",
          "text": [
            "Overwriting E03_03.c\n"
          ]
        }
      ]
    },
    {
      "cell_type": "code",
      "source": [
        "%%shell\n",
        "gcc E03_03.c -o E03_03\n",
        "./E03_03"
      ],
      "metadata": {
        "colab": {
          "base_uri": "https://localhost:8080/"
        },
        "id": "tc-SW_xiZDKH",
        "outputId": "1e464920-1185-4c07-d8c6-01eb3be28d0e"
      },
      "execution_count": null,
      "outputs": [
        {
          "output_type": "stream",
          "name": "stdout",
          "text": [
            "Please type the word\n",
            "Taiwan\n",
            "########\n",
            "#Taiwan#\n",
            "########\n",
            "04:22:14\n",
            "E03_03.c\n",
            "16\n",
            "main\n",
            "Aug  4 2024\n"
          ]
        },
        {
          "output_type": "execute_result",
          "data": {
            "text/plain": []
          },
          "metadata": {},
          "execution_count": 4
        }
      ]
    },
    {
      "cell_type": "code",
      "source": [
        "%%writefile E03_04.c\n",
        "#include <stdio.h>\n",
        "int main(void)\n",
        "{\n",
        "  int n,x,i,sum;\n",
        "  int a[10];\n",
        "  printf(\"How many numbers?(n<10)\");\n",
        "  scanf(\"%d\",&n);\n",
        "  i=0;\n",
        "  while(i<n)\n",
        "  {\n",
        "    printf(\"input a[%d]: \",i);\n",
        "    scanf(\"%d\",&x);\n",
        "    a[i]=x;\n",
        "\n",
        "    i++;\n",
        "\n",
        "  }\n",
        "  i=0;\n",
        "  sum=0;\n",
        "  while(i<n)\n",
        "  {\n",
        "    printf(\"%d + \",a[i]);\n",
        "    sum=sum+a[i];\n",
        "    i++;\n",
        "  }\n",
        "  printf(\"\\b\\b= %d\\n\",sum);\n",
        "  return 0;\n",
        "}"
      ],
      "metadata": {
        "colab": {
          "base_uri": "https://localhost:8080/"
        },
        "id": "TNcfeypAn8nf",
        "outputId": "5c2d63d0-e2aa-4c22-bbdc-ea5911527988"
      },
      "execution_count": null,
      "outputs": [
        {
          "output_type": "stream",
          "name": "stdout",
          "text": [
            "Overwriting E03_04.c\n"
          ]
        }
      ]
    },
    {
      "cell_type": "code",
      "source": [
        "%%shell\n",
        "gcc E03_04.c -o E03_04\n",
        "./E03_04"
      ],
      "metadata": {
        "colab": {
          "base_uri": "https://localhost:8080/"
        },
        "id": "NCWVS-nBrYzZ",
        "outputId": "b1623ceb-2301-4c04-af0a-c25f089d7f4c"
      },
      "execution_count": null,
      "outputs": [
        {
          "output_type": "stream",
          "name": "stdout",
          "text": [
            "How many numbers?(n<10)9\n",
            "input a[0]: 1\n",
            "input a[1]: 2\n",
            "input a[2]: 3\n",
            "input a[3]: 4\n",
            "input a[4]: 5\n",
            "input a[5]: 6\n",
            "input a[6]: 7\n",
            "input a[7]: 8\n",
            "input a[8]: 9\n",
            "1 + 2 + 3 + 4 + 5 + 6 + 7 + 8 + 9 + \b\b= 45\n"
          ]
        },
        {
          "output_type": "execute_result",
          "data": {
            "text/plain": []
          },
          "metadata": {},
          "execution_count": 12
        }
      ]
    },
    {
      "cell_type": "code",
      "source": [
        "%%writefile E03_06.c\n",
        "#include <stdio.h>\n",
        "\n",
        "int main(void)\n",
        "{\n",
        "  int i,j ;\n",
        "\n",
        "  i=1;\n",
        "  while(i<=9)\n",
        "  {\n",
        "    j=1;\n",
        "    while(j<=i)\n",
        "    {\n",
        "      printf(\"%3d\",i*j);\n",
        "      j++;\n",
        "    }\n",
        "    while(j<=9)\n",
        "    {\n",
        "      printf(\"  \");\n",
        "      j++;\n",
        "    }\n",
        "    printf(\"\\n\");\n",
        "    i++;\n",
        "  }\n",
        "}"
      ],
      "metadata": {
        "colab": {
          "base_uri": "https://localhost:8080/"
        },
        "id": "Pn09cgnjxSof",
        "outputId": "0c339833-021b-4ad1-e190-6d1cdedfef9d"
      },
      "execution_count": null,
      "outputs": [
        {
          "output_type": "stream",
          "name": "stdout",
          "text": [
            "Overwriting E03_06.c\n"
          ]
        }
      ]
    },
    {
      "cell_type": "code",
      "source": [
        "%%shell\n",
        "gcc E03_06.c -o E03_06\n",
        "./E03_06"
      ],
      "metadata": {
        "colab": {
          "base_uri": "https://localhost:8080/"
        },
        "id": "ZTHVb1p1yKEc",
        "outputId": "77fc7d5b-cc20-422c-fb00-d1dca8468d3f"
      },
      "execution_count": null,
      "outputs": [
        {
          "output_type": "stream",
          "name": "stdout",
          "text": [
            "  1                \n",
            "  2  4              \n",
            "  3  6  9            \n",
            "  4  8 12 16          \n",
            "  5 10 15 20 25        \n",
            "  6 12 18 24 30 36      \n",
            "  7 14 21 28 35 42 49    \n",
            "  8 16 24 32 40 48 56 64  \n",
            "  9 18 27 36 45 54 63 72 81\n"
          ]
        },
        {
          "output_type": "execute_result",
          "data": {
            "text/plain": []
          },
          "metadata": {},
          "execution_count": 27
        }
      ]
    },
    {
      "cell_type": "code",
      "source": [
        "%%writefile E03_062.c\n",
        "\n",
        "#include <stdio.h>\n",
        "\n",
        "int main(void){\n",
        "  char i=48;\n",
        "  while(i>0){\n",
        "    printf(\"%d = %c\\n\",i,i);\n",
        "    i++;\n",
        "  }\n",
        "  return 0;\n",
        "}"
      ],
      "metadata": {
        "colab": {
          "base_uri": "https://localhost:8080/"
        },
        "id": "5XKXA1yD5Iwh",
        "outputId": "c93862b6-ab0f-4928-82eb-0b7d6f8baf86"
      },
      "execution_count": null,
      "outputs": [
        {
          "output_type": "stream",
          "name": "stdout",
          "text": [
            "Overwriting E03_062.c\n"
          ]
        }
      ]
    },
    {
      "cell_type": "code",
      "source": [
        "%%shell\n",
        "gcc E03_062.c -o E03_062\n",
        "./E03_062"
      ],
      "metadata": {
        "colab": {
          "base_uri": "https://localhost:8080/"
        },
        "collapsed": true,
        "id": "XkehCFF052F-",
        "outputId": "ca680f6c-f121-4ae7-846c-436c76402abc"
      },
      "execution_count": null,
      "outputs": [
        {
          "output_type": "stream",
          "name": "stdout",
          "text": [
            "48 = 0\n",
            "49 = 1\n",
            "50 = 2\n",
            "51 = 3\n",
            "52 = 4\n",
            "53 = 5\n",
            "54 = 6\n",
            "55 = 7\n",
            "56 = 8\n",
            "57 = 9\n",
            "58 = :\n",
            "59 = ;\n",
            "60 = <\n",
            "61 = =\n",
            "62 = >\n",
            "63 = ?\n",
            "64 = @\n",
            "65 = A\n",
            "66 = B\n",
            "67 = C\n",
            "68 = D\n",
            "69 = E\n",
            "70 = F\n",
            "71 = G\n",
            "72 = H\n",
            "73 = I\n",
            "74 = J\n",
            "75 = K\n",
            "76 = L\n",
            "77 = M\n",
            "78 = N\n",
            "79 = O\n",
            "80 = P\n",
            "81 = Q\n",
            "82 = R\n",
            "83 = S\n",
            "84 = T\n",
            "85 = U\n",
            "86 = V\n",
            "87 = W\n",
            "88 = X\n",
            "89 = Y\n",
            "90 = Z\n",
            "91 = [\n",
            "92 = \\\n",
            "93 = ]\n",
            "94 = ^\n",
            "95 = _\n",
            "96 = `\n",
            "97 = a\n",
            "98 = b\n",
            "99 = c\n",
            "100 = d\n",
            "101 = e\n",
            "102 = f\n",
            "103 = g\n",
            "104 = h\n",
            "105 = i\n",
            "106 = j\n",
            "107 = k\n",
            "108 = l\n",
            "109 = m\n",
            "110 = n\n",
            "111 = o\n",
            "112 = p\n",
            "113 = q\n",
            "114 = r\n",
            "115 = s\n",
            "116 = t\n",
            "117 = u\n",
            "118 = v\n",
            "119 = w\n",
            "120 = x\n",
            "121 = y\n",
            "122 = z\n",
            "123 = {\n",
            "124 = |\n",
            "125 = }\n",
            "126 = ~\n",
            "127 = \n"
          ]
        },
        {
          "output_type": "execute_result",
          "data": {
            "text/plain": []
          },
          "metadata": {},
          "execution_count": 46
        }
      ]
    },
    {
      "cell_type": "code",
      "source": [
        "%%writefile E03_07.c\n",
        "#include <stdio.h>\n",
        "\n",
        "int main(void)\n",
        "{\n",
        "    int i, j;\n",
        "    int a[10][10] = {0};\n",
        "    a[1][1]=1;\n",
        "    i = 2;\n",
        "    while (i<=9)\n",
        "    {\n",
        "        j = 1;\n",
        "        while (j<=9)\n",
        "        {\n",
        "            a[i][j] = a[i-1][j-1]+a[i-1][j];//???; /* a[i][j] ith row, jth column */\n",
        "            j = j + 1;\n",
        "        }\n",
        "        i = i + 1;\n",
        "    }\n",
        "\n",
        "    /* show the content of a */\n",
        "    i = 0;\n",
        "    while (i<=9)\n",
        "    {\n",
        "        j = 0;\n",
        "        while (j<=9)\n",
        "        {\n",
        "            printf(\"%3d \", a[i][j]);\n",
        "            j = j + 1;\n",
        "        }\n",
        "        printf(\"\\n\");\n",
        "        i = i + 1;\n",
        "    }\n",
        "\n",
        "\n",
        "    return 0;\n",
        "}\n",
        "/*\n",
        "How to print a Pascal Triangle?\n",
        "Try it yourself.\n",
        "0 0 0 0 0 0\n",
        "0 1 0 0 0 0\n",
        "0 1 1 0 0 0\n",
        "0 1 2 1 0 0\n",
        "0 1 3 3 1 0\n",
        "0 1 4 6 4 1\n",
        "...\n",
        "*/"
      ],
      "metadata": {
        "colab": {
          "base_uri": "https://localhost:8080/"
        },
        "id": "Y30IUUvL8wx1",
        "outputId": "21d36099-f362-49b8-dd07-25e3ce8108d6"
      },
      "execution_count": null,
      "outputs": [
        {
          "output_type": "stream",
          "name": "stdout",
          "text": [
            "Writing E03_07.c\n"
          ]
        }
      ]
    },
    {
      "cell_type": "code",
      "source": [
        "%%shell\n",
        "gcc E03_07.c -o E03_07\n",
        "./E03_07"
      ],
      "metadata": {
        "colab": {
          "base_uri": "https://localhost:8080/"
        },
        "id": "xNOQbIm48-qS",
        "outputId": "dd861010-7307-4779-f966-f8d15dd5fcba"
      },
      "execution_count": null,
      "outputs": [
        {
          "output_type": "stream",
          "name": "stdout",
          "text": [
            "  0   0   0   0   0   0   0   0   0   0 \n",
            "  0   1   0   0   0   0   0   0   0   0 \n",
            "  0   1   1   0   0   0   0   0   0   0 \n",
            "  0   1   2   1   0   0   0   0   0   0 \n",
            "  0   1   3   3   1   0   0   0   0   0 \n",
            "  0   1   4   6   4   1   0   0   0   0 \n",
            "  0   1   5  10  10   5   1   0   0   0 \n",
            "  0   1   6  15  20  15   6   1   0   0 \n",
            "  0   1   7  21  35  35  21   7   1   0 \n",
            "  0   1   8  28  56  70  56  28   8   1 \n"
          ]
        },
        {
          "output_type": "execute_result",
          "data": {
            "text/plain": []
          },
          "metadata": {},
          "execution_count": 3
        }
      ]
    },
    {
      "cell_type": "code",
      "source": [],
      "metadata": {
        "id": "r18GOlJdwoHm"
      },
      "execution_count": null,
      "outputs": []
    }
  ]
}